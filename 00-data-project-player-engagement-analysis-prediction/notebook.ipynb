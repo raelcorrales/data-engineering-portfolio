{
 "cells": [
  {
   "cell_type": "code",
   "execution_count": null,
   "id": "9936a4fd",
   "metadata": {},
   "outputs": [],
   "source": [
    "def artimetic(term_1, term_2, operator):\n",
    "    result = 0\n",
    "    if operator == '+':\n",
    "        result = term_1 + term_2\n",
    "    elif operator == '-':\n",
    "        result = term_1 - term_2\n",
    "    elif operator == '*':\n",
    "        result = term_1 * term_2\n",
    "    elif operator == '/':\n",
    "        result = term_1 / term_2\n",
    "    print(\"Result: \", result)\n",
    "    return result\n",
    "\n",
    "def calc_artimetic(string):\n",
    "    term_1 = -1\n",
    "    term_2 = -1\n",
    "    result = -1\n",
    "    operator = ''\n",
    "    op_list = ['+', '-', '*', '/']\n",
    "    char = 0\n",
    "    while char < len(string):\n",
    "        print(string[char])\n",
    "        if string[char] in op_list:\n",
    "            operator = string[char]\n",
    "            char += 1\n",
    "        elif string[char] == '(' or string[char] == ')':\n",
    "            close_index = str(string[char:len(string)-1]).index(')')\n",
    "            calc_parenthesis = str(string[char:char+close_index]).replace('(', '').replace(')', '')\n",
    "            par_result = calc_artimetic(calc_parenthesis)\n",
    "            \n",
    "            if term_1 == -1:\n",
    "                term_1 = par_result\n",
    "            else:\n",
    "                term_2 = par_result\n",
    "                result = artimetic(term_1, term_2, operator)\n",
    "                term_1 = result\n",
    "            char += close_index + 1\n",
    "        else:\n",
    "            \n",
    "            if term_1 == -1:\n",
    "                term_1 = int(string[char])\n",
    "            else:\n",
    "                term_2 = int(string[char])\n",
    "                result = artimetic(term_1, term_2, operator)\n",
    "                term_1 = result\n",
    "            char += 1\n",
    "        \n",
    "    return result\n",
    "    \n",
    "    "
   ]
  },
  {
   "cell_type": "code",
   "execution_count": 47,
   "id": "cec70eeb",
   "metadata": {},
   "outputs": [
    {
     "name": "stdout",
     "output_type": "stream",
     "text": [
      "2\n",
      "+\n",
      "3\n",
      "Result:  5\n",
      "+\n",
      "5\n",
      "Result:  10\n",
      "+\n",
      "6\n",
      "Result:  16\n",
      "Final Result:  16\n"
     ]
    }
   ],
   "source": [
    "print(\"Final Result: \", calc_artimetic(\"2+3+5+6\"))\n",
    "# 2+3 = 5\n",
    "# 5+5 = 10\n",
    "# 10+6 = 16"
   ]
  },
  {
   "cell_type": "code",
   "execution_count": 48,
   "id": "6db0925c",
   "metadata": {},
   "outputs": [
    {
     "name": "stdout",
     "output_type": "stream",
     "text": [
      "2\n",
      "+\n",
      "(\n",
      "Close Index:  4\n",
      "Calculate Parenthesis:  3+7\n",
      "3\n",
      "+\n",
      "7\n",
      "Result:  10\n",
      "Parenthesis Result:  10\n",
      "Result:  12\n",
      "+\n",
      "6\n",
      "Result:  18\n"
     ]
    },
    {
     "data": {
      "text/plain": [
       "18"
      ]
     },
     "execution_count": 48,
     "metadata": {},
     "output_type": "execute_result"
    }
   ],
   "source": [
    "calc_artimetic(\"2+(3+7)+6\")\n",
    "# 3+7 = 10\n",
    "# 2+10 = 12\n",
    "# 12+6 = 18"
   ]
  },
  {
   "cell_type": "code",
   "execution_count": 49,
   "id": "8f13c946",
   "metadata": {},
   "outputs": [
    {
     "name": "stdout",
     "output_type": "stream",
     "text": [
      "2\n",
      "*\n",
      "5\n",
      "Result:  10\n"
     ]
    },
    {
     "data": {
      "text/plain": [
       "10"
      ]
     },
     "execution_count": 49,
     "metadata": {},
     "output_type": "execute_result"
    }
   ],
   "source": [
    "calc_artimetic(\"2*5\")\n",
    "# 2*5 = 10"
   ]
  },
  {
   "cell_type": "code",
   "execution_count": 50,
   "id": "667a16f8",
   "metadata": {},
   "outputs": [
    {
     "name": "stdout",
     "output_type": "stream",
     "text": [
      "1\n",
      "0\n",
      "Result:  0\n",
      "/\n",
      "5\n",
      "Result:  0.0\n"
     ]
    },
    {
     "data": {
      "text/plain": [
       "0.0"
      ]
     },
     "execution_count": 50,
     "metadata": {},
     "output_type": "execute_result"
    }
   ],
   "source": [
    "calc_artimetic(\"10/5\")\n",
    "# 10/5 = 2"
   ]
  }
 ],
 "metadata": {
  "colab": {
   "name": "Welcome to DataCamp Workspaces.ipynb",
   "provenance": []
  },
  "editor": "DataLab",
  "kernelspec": {
   "display_name": "Python 3",
   "language": "python",
   "name": "python3"
  },
  "language_info": {
   "codemirror_mode": {
    "name": "ipython",
    "version": 3
   },
   "file_extension": ".py",
   "mimetype": "text/x-python",
   "name": "python",
   "nbconvert_exporter": "python",
   "pygments_lexer": "ipython3",
   "version": "3.12.3"
  }
 },
 "nbformat": 4,
 "nbformat_minor": 5
}
