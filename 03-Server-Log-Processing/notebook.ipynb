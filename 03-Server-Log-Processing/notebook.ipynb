{
  "cells": [
    {
      "cell_type": "code",
      "execution_count": null,
      "metadata": {
        "id": "kiera5Pmnp2-"
      },
      "outputs": [],
      "source": [
        "from pyspark.sql import SparkSession\n",
        "from pyspark.sql.functions import to_timestamp, col, to_date, hour\n",
        "from pyspark.sql.types import StructType, StructField, StringType, IntegerType"
      ]
    },
    {
      "cell_type": "code",
      "execution_count": null,
      "metadata": {
        "id": "d6I-aYPsqKvR"
      },
      "outputs": [],
      "source": [
        "spark = SparkSession.builder.appName(\"LogApp\").getOrCreate()"
      ]
    },
    {
      "cell_type": "code",
      "execution_count": null,
      "metadata": {
        "id": "46INVWYlqmZC"
      },
      "outputs": [],
      "source": [
        "spark.conf.set(\"spark.sql.legacy.parquet.nanosAsLong\", \"true\")"
      ]
    },
    {
      "cell_type": "code",
      "execution_count": null,
      "metadata": {
        "id": "A6ql4dNPx0vw"
      },
      "outputs": [],
      "source": [
        "schema = StructType([\n",
        "    StructField(\"datetime\", StringType(), True),\n",
        "    StructField(\"ip\", StringType(), True),\n",
        "    StructField(\"url\", StringType(), True),\n",
        "    StructField(\"status_code\", IntegerType(), True),\n",
        "    StructField(\"response_time\", IntegerType(), True),\n",
        "    StructField(\"user_agent\", StringType(), True)\n",
        "    ])"
      ]
    },
    {
      "cell_type": "code",
      "execution_count": null,
      "metadata": {
        "id": "QT2cKMaFqMuK"
      },
      "outputs": [],
      "source": [
        "df = spark.read.parquet('./logs.parquet', schema=schema)"
      ]
    },
    {
      "cell_type": "code",
      "execution_count": null,
      "metadata": {
        "id": "RM11TrSL0hAf"
      },
      "outputs": [],
      "source": [
        "df = df.withColumn('timestamp', to_timestamp(col('datetime'), 'yyyy-MM-dd HH:mm:ss'))"
      ]
    },
    {
      "cell_type": "code",
      "execution_count": null,
      "metadata": {
        "id": "Vj_MFZXl0yOr"
      },
      "outputs": [],
      "source": [
        "df = df.withColumn(\"date\", to_date(col(\"timestamp\")))\n",
        "df = df.withColumn(\"hour\", hour(col(\"timestamp\")))"
      ]
    },
    {
      "cell_type": "code",
      "execution_count": null,
      "metadata": {
        "colab": {
          "base_uri": "https://localhost:8080/"
        },
        "id": "pCvD226f04l3",
        "outputId": "851ee896-e889-4b67-ee2e-a05e7f95258a"
      },
      "outputs": [
        {
          "name": "stdout",
          "output_type": "stream",
          "text": [
            "+-------------------+-------------+----------+-----------+-------------+----------+-------------------+----------+----+\n",
            "|datetime           |ip           |url       |status_code|response_time|user_agent|timestamp          |date      |hour|\n",
            "+-------------------+-------------+----------+-----------+-------------+----------+-------------------+----------+----+\n",
            "|2025-03-15 05:24:45|192.168.0.144|/profile  |500        |73           |Safari    |2025-03-15 05:24:45|2025-03-15|5   |\n",
            "|2025-03-14 14:06:30|192.168.0.38 |/home     |200        |357          |Firefox   |2025-03-14 14:06:30|2025-03-14|14  |\n",
            "|2025-03-15 08:29:13|192.168.0.241|/home     |502        |725          |Opera     |2025-03-15 08:29:13|2025-03-15|8   |\n",
            "|2025-03-14 15:29:50|192.168.0.246|/dashboard|400        |900          |Chrome    |2025-03-14 15:29:50|2025-03-14|15  |\n",
            "|2025-03-14 10:09:50|192.168.0.100|/login    |201        |552          |Edge      |2025-03-14 10:09:50|2025-03-14|10  |\n",
            "|2025-03-15 08:25:41|192.168.0.180|/search   |200        |742          |Chrome    |2025-03-15 08:25:41|2025-03-15|8   |\n",
            "|2025-03-14 23:29:44|192.168.0.101|/profile  |201        |706          |Chrome    |2025-03-14 23:29:44|2025-03-14|23  |\n",
            "|2025-03-14 15:23:49|192.168.0.188|/home     |201        |303          |Edge      |2025-03-14 15:23:49|2025-03-14|15  |\n",
            "|2025-03-14 15:58:09|192.168.0.250|/home     |201        |415          |Firefox   |2025-03-14 15:58:09|2025-03-14|15  |\n",
            "|2025-03-14 19:35:02|192.168.0.215|/login    |200        |259          |Edge      |2025-03-14 19:35:02|2025-03-14|19  |\n",
            "+-------------------+-------------+----------+-----------+-------------+----------+-------------------+----------+----+\n",
            "only showing top 10 rows\n",
            "\n"
          ]
        }
      ],
      "source": [
        "df.show(10, False)"
      ]
    },
    {
      "cell_type": "code",
      "execution_count": null,
      "metadata": {
        "colab": {
          "base_uri": "https://localhost:8080/"
        },
        "id": "yIQ6wy9l0-iX",
        "outputId": "934664ad-e80a-40f9-d11d-6021ae826356"
      },
      "outputs": [
        {
          "name": "stdout",
          "output_type": "stream",
          "text": [
            "+----------+----+-----+\n",
            "|      date|hour|count|\n",
            "+----------+----+-----+\n",
            "|2025-03-14|  10|41650|\n",
            "|2025-03-14|  11|41900|\n",
            "|2025-03-14|  12|41911|\n",
            "|2025-03-14|  13|41734|\n",
            "|2025-03-14|  14|41605|\n",
            "|2025-03-14|  15|41513|\n",
            "|2025-03-14|  16|41540|\n",
            "|2025-03-14|  17|41571|\n",
            "|2025-03-14|  18|41537|\n",
            "|2025-03-14|  19|41446|\n",
            "|2025-03-14|  20|41761|\n",
            "|2025-03-14|  21|41772|\n",
            "|2025-03-14|  22|41399|\n",
            "|2025-03-14|  23|41795|\n",
            "|2025-03-15|   0|41513|\n",
            "|2025-03-15|   1|41549|\n",
            "|2025-03-15|   2|41256|\n",
            "|2025-03-15|   3|41956|\n",
            "|2025-03-15|   4|41884|\n",
            "|2025-03-15|   5|41305|\n",
            "+----------+----+-----+\n",
            "only showing top 20 rows\n",
            "\n"
          ]
        }
      ],
      "source": [
        "# cantidad de requests por hora y dia\n",
        "df.groupBy(\"date\", \"hour\").count().orderBy(\"date\", \"hour\").show()"
      ]
    },
    {
      "cell_type": "code",
      "execution_count": null,
      "metadata": {
        "colab": {
          "base_uri": "https://localhost:8080/"
        },
        "id": "s2wAmq6-1k-j",
        "outputId": "a9b152f3-b7cd-4d70-e817-2ac8146dfe45"
      },
      "outputs": [
        {
          "name": "stdout",
          "output_type": "stream",
          "text": [
            "+----------+------+\n",
            "|url       |count |\n",
            "+----------+------+\n",
            "|/dashboard|200316|\n",
            "|/login    |200068|\n",
            "|/search   |199967|\n",
            "|/profile  |199835|\n",
            "|/home     |199814|\n",
            "+----------+------+\n",
            "\n"
          ]
        }
      ],
      "source": [
        "# Top 5 URLS mas visitadas\n",
        "df.groupBy(\"url\").count().orderBy(\"count\", ascending=False).show(5, False)"
      ]
    },
    {
      "cell_type": "code",
      "execution_count": null,
      "metadata": {
        "colab": {
          "base_uri": "https://localhost:8080/"
        },
        "id": "XQNQBf5J15xr",
        "outputId": "568a600e-7e6f-41d8-f3c1-ded4a349c756"
      },
      "outputs": [
        {
          "name": "stdout",
          "output_type": "stream",
          "text": [
            "+-----------+------+\n",
            "|status_code| count|\n",
            "+-----------+------+\n",
            "|        502|166536|\n",
            "|        404|167061|\n",
            "|        500|166598|\n",
            "|        400|166264|\n",
            "+-----------+------+\n",
            "\n"
          ]
        }
      ],
      "source": [
        "# Cantidad de errores 4xx y 5xx\n",
        "df.filter((col(\"status_code\") >= 400) & (col(\"status_code\") < 600)).groupBy(\"status_code\").count().show()"
      ]
    },
    {
      "cell_type": "code",
      "execution_count": null,
      "metadata": {
        "colab": {
          "base_uri": "https://localhost:8080/"
        },
        "id": "S0adUmEd2PtZ",
        "outputId": "ea038bdc-b26d-4ab7-ba7e-bd7726e7f8c0"
      },
      "outputs": [
        {
          "name": "stdout",
          "output_type": "stream",
          "text": [
            "+----------+------------------+\n",
            "|       url|avg(response_time)|\n",
            "+----------+------------------+\n",
            "|   /search| 505.7301154690524|\n",
            "|  /profile| 505.6279730777892|\n",
            "|     /home| 505.0330557418399|\n",
            "|/dashboard| 504.6675253100102|\n",
            "|    /login|504.31182397984685|\n",
            "+----------+------------------+\n",
            "\n"
          ]
        }
      ],
      "source": [
        "# Tiempo de respuesta promedio por URL\n",
        "df.groupBy(\"url\").avg(\"response_time\").orderBy(col(\"avg(response_time)\").desc()).show()"
      ]
    },
    {
      "cell_type": "code",
      "execution_count": null,
      "metadata": {
        "id": "1rTmif9v3IiE"
      },
      "outputs": [],
      "source": [
        "# Optimizar DataFrame usando Repartition\n",
        "optimized_df = spark.read.parquet('logs.parquet').repartition(10)"
      ]
    },
    {
      "cell_type": "code",
      "execution_count": null,
      "metadata": {
        "id": "bpeqYthd3Wbj"
      },
      "outputs": [],
      "source": [
        "# Crear Temporal View\n",
        "optimized_df.createOrReplaceTempView(\"logs\")"
      ]
    },
    {
      "cell_type": "code",
      "execution_count": null,
      "metadata": {
        "colab": {
          "base_uri": "https://localhost:8080/"
        },
        "id": "PJ2_sJ5F3eD1",
        "outputId": "bde6bf1f-8514-4ac1-9c9b-b46415146321"
      },
      "outputs": [
        {
          "name": "stdout",
          "output_type": "stream",
          "text": [
            "+----------+------+\n",
            "|       url|visits|\n",
            "+----------+------+\n",
            "|/dashboard|200316|\n",
            "|    /login|200068|\n",
            "|   /search|199967|\n",
            "|  /profile|199835|\n",
            "|     /home|199814|\n",
            "+----------+------+\n",
            "\n"
          ]
        }
      ],
      "source": [
        "# Usando Spark SQL para obtener las vistas de las urls.\n",
        "spark.sql(\"SELECT url, COUNT(*) as visits FROM logs GROUP BY url ORDER BY visits DESC LIMIT 5\").show()"
      ]
    }
  ],
  "metadata": {
    "colab": {
      "provenance": []
    },
    "kernelspec": {
      "display_name": "Python 3",
      "name": "python3"
    },
    "language_info": {
      "name": "python",
      "version": "3.12.3"
    }
  },
  "nbformat": 4,
  "nbformat_minor": 0
}
